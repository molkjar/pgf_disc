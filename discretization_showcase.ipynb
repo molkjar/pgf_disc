{
 "cells": [
  {
   "attachments": {},
   "cell_type": "markdown",
   "metadata": {},
   "source": [
    "# Discretization of time-varying CMJ generating function\n",
    "Author: *Frederik Mølkjær Andersen*\n",
    "\n",
    "Companion notebook for the report *Efficient computation of the probability generating function in a general branching process model for infectious diseases*\n",
    "\n",
    "This notebook should be read in conjunction with the report.\n",
    "\n",
    "A `.ipynb` file constructing this pdf can be found on [my GitHub (molkjar)](https://github.com/molkjar/cmj_pgf)."
   ]
  },
  {
   "attachments": {},
   "cell_type": "markdown",
   "metadata": {},
   "source": [
    "This notebook showcases the two implementations of the generating function for the time-varying presented in Section 6 in the report and the computation of the probability mass function from it as presented in Section 2.3. We will focus on the branching process counting prevalence under a negative binomial infection process. \n",
    "\n",
    "In our example assume that $L^\\tau \\sim \\Gamma(5, \\theta(\\tau))$ where $\\theta(\\tau)$ is a $\\tau$-dependent *scale*-parameter\n",
    "$$\n",
    "\\theta(\\tau) := \\frac{1}{1 + 0.01\\tau}\n",
    "$$\n",
    "and that individual infectiousness follows a $\\Gamma(3, 1)$ distribution. We assume that the time-varying transmission rate $\\rho$ is assumed to be given as\n",
    "$$\n",
    "\\rho(t) := 1.5 + \\sin(0.15 t).\n",
    "$$\n",
    "\n",
    "Despite the choice of counting characteristic, infection process etc. above the functions presented here can handle all cases mentioned in the report, in particular it can compute the generating function for cumulative incidence and use the Poisson infection process."
   ]
  },
  {
   "attachments": {},
   "cell_type": "markdown",
   "metadata": {},
   "source": [
    "Most of our implementation is done through storing in and computing on matrices, here implemented as two-dimensional `numpy` arrays. Distribution related functions and a bit of linear algebra magic is drawn from `scipy` and plotting is done using `matplotlib`."
   ]
  },
  {
   "cell_type": "code",
   "execution_count": 10,
   "metadata": {},
   "outputs": [],
   "source": [
    "import numpy as np\n",
    "from scipy.stats import gamma\n",
    "from scipy.linalg import toeplitz\n",
    "import matplotlib.pyplot as plt"
   ]
  },
  {
   "cell_type": "code",
   "execution_count": 187,
   "metadata": {},
   "outputs": [],
   "source": [
    "def G(t, tau):\n",
    "  return gamma.cdf(t, a = 6, scale = 1 / (1 + 0.01 * tau))\n",
    "\n",
    "def V(t):\n",
    "  return gamma.cdf(t, a = 3, scale = 1)\n",
    "\n",
    "def rho(t):\n",
    "  return 1.5 + np.sin(0.175 * t)"
   ]
  },
  {
   "attachments": {},
   "cell_type": "markdown",
   "metadata": {},
   "source": [
    "We now define a helper function which returns all the matrices, functions and alike used in the computation of the generating function, the definitions follow from Section 6 of the report. The result is saved in a list. In particular this lets us precompute all of these quantities which are invariant of $s$, the argument of the generating function."
   ]
  },
  {
   "cell_type": "code",
   "execution_count": 24,
   "metadata": {},
   "outputs": [],
   "source": [
    "def pgf_prep(N, Delta, G, V, rho, phi, count=\"prev\", inf_proc=\"negbin\"):\n",
    "  if inf_proc == \"negbin\":\n",
    "    def psi(z):\n",
    "      return - phi * (np.log(phi + 1 - z) - np.log(phi))\n",
    "  if inf_proc == \"pois\":\n",
    "    def psi(z):\n",
    "      return z - 1\n",
    "\n",
    "  def q_1(z, s):\n",
    "    return s * np.exp(z)\n",
    "\n",
    "  if count == \"prev\":\n",
    "    def q_2(z, s):\n",
    "      return np.exp(z)\n",
    "  if count == \"ci\":\n",
    "    def q_2(z, s):\n",
    "      return s * np.exp(z)\n",
    "\n",
    "  Gbar_t = np.tril(np.tile(np.arange(0, N+1) * Delta, (N+1, 1)).T)\n",
    "  Gbar_tau = np.tril(toeplitz(np.arange(0, N+1) * Delta))\n",
    "  Gbar = 1 - G(Gbar_t - Gbar_tau, Gbar_tau)\n",
    "\n",
    "  D_t = np.triu(np.tile(np.arange(N, -1, -1) * Delta, (N, 1)))\n",
    "  D_tau = np.triu(np.tile(np.arange(0, N) * Delta, (N+1, 1)).T)\n",
    "  \n",
    "  DV = -rho(D_t[:, :-1] + D_tau[:, :-1]) * np.diff(V(D_t))\n",
    "  DG = -np.diff(G(D_t, D_tau))\n",
    "\n",
    "  return [N, psi, q_1, q_2, Gbar, DV, DG]  "
   ]
  },
  {
   "attachments": {},
   "cell_type": "markdown",
   "metadata": {},
   "source": [
    "## Algorithm 1\n",
    "We are ready to implement Algorithm 1 from the report. The algorithm involves three nested for-loops so will probably take a while to finish, at least for high $N$. The function takes two arguments, the generating function argument $s$ and the resulting list from `pgf_prep` above."
   ]
  },
  {
   "cell_type": "code",
   "execution_count": 25,
   "metadata": {},
   "outputs": [],
   "source": [
    "def pgf_direct(s, prep_list):\n",
    "  N, psi, q_1, q_2, Gbar, DV, DG = prep_list\n",
    "\n",
    "  F = np.zeros((N+1, N+1), dtype=np.complex_)\n",
    "  F[:, 0] = s\n",
    "\n",
    "  for n in range(1, N+1):\n",
    "    for i in range(1, n+1):\n",
    "      int_1 = Gbar[n, i] * q_1(np.sum(psi(F[n, 0:i]) * DV[n-i, (N-i):N]), s)\n",
    "      \n",
    "      int_2 = 0 + 0j\n",
    "      for j in range(i):\n",
    "        int_2_in = np.sum(psi(F[n, (j+1):i]) * DV[n-i, (N-i+j+1):N])\n",
    "        int_2 += q_2(int_2_in, s) * DG[n-i, N-i+j]\n",
    "\n",
    "      F[n, i] = int_1 + int_2\n",
    "\n",
    "  return np.diag(F)"
   ]
  },
  {
   "attachments": {},
   "cell_type": "markdown",
   "metadata": {},
   "source": [
    "## Algorithm 2\n",
    "Next we will use the vectorization scheme outlined in the report, `numpy` has a lot of nice array transformation features which we use an abundance of. This implementation contains only one for-loop (which we can't get rid of), so should be much faster than `pgf_direct`. Further vectorization over `s` is possible using three-dimensional arrays, however this takes up a lot of unnecessary memory and without much gain in speed, however the problem is embarrassingly parallelizable as computation for each $s$ is completely independent from each other.\n",
    "\n",
    "Have in mind that both implementations do the exact same computations (with diregard to what happens in the parts of the matrices which are never acessed), so their results should be identical, up to some floating point error."
   ]
  },
  {
   "cell_type": "code",
   "execution_count": 26,
   "metadata": {},
   "outputs": [],
   "source": [
    "def pgf_vec(s, prep_list):\n",
    "  N, psi, q_1, q_2, Gbar, DV, DG = prep_list\n",
    "  \n",
    "  F = np.zeros((N+1, N+1), dtype=np.complex_)\n",
    "  F[:, 0] = s\n",
    "\n",
    "  for i in range(1, N+1):\n",
    "    B = psi(F[i:(N + 1), 0:i]) * DV[0:(N - i + 1), (N - i):N]\n",
    "    B_1 = np.cumsum(B[:, ::-1], axis = 1)[:, ::-1]\n",
    "\n",
    "    int_1 = Gbar[i:(N + 1), i] * q_1(B_1[:, 0], s)\n",
    "    \n",
    "    B_2 = np.concatenate((B_1[:, 1:i], np.zeros((B_1.shape[0], 1))), axis = 1)\n",
    "    int_2 = np.sum(q_2(B_2, s) * DG[0:(N - i + 1), (N - i):N], axis = 1)\n",
    "\n",
    "    F[i:(N + 1), i] = int_1 + int_2\n",
    "\n",
    "  return np.diag(F)"
   ]
  },
  {
   "attachments": {},
   "cell_type": "markdown",
   "metadata": {},
   "source": [
    "## Computing the probability mass function\n",
    "As described in Section 2.3 of the report we can take advantadge of the Cauchy integral and fast Fourier transform to compute the probability mass function from the generating function. Below is a function that takes the `pgf_prep` list of object and computes the derivatives of the generating function and thus the mass function. To take care numerical errors, the mass function is normalized before it is returned.\n",
    "\n",
    "As mentioned above, computing of the generating function at many values of $s$ is embarrassingly parallelizable, however parallelization is not trivial in a Jupyter Notebook, so we will let it be as is."
   ]
  },
  {
   "cell_type": "code",
   "execution_count": 27,
   "metadata": {},
   "outputs": [],
   "source": [
    "def pmfft(M, prep_list):\n",
    "  pgf = np.array(list(map(lambda m: pgf_vec(np.exp(2.0j*np.pi*m/M), prep_list), range(M))))\n",
    "  fft = np.real(np.fft.fft(pgf, axis=0))\n",
    "  pmf = fft * (fft >= 0)\n",
    "  return pmf / np.sum(pmf, axis=0)"
   ]
  },
  {
   "attachments": {},
   "cell_type": "markdown",
   "metadata": {},
   "source": [
    "In practice we want to compute moments of the process for now we will investigate the mean of the process, however higher moments are easily found from the probability mass function."
   ]
  },
  {
   "cell_type": "code",
   "execution_count": 205,
   "metadata": {},
   "outputs": [],
   "source": [
    "def mean(pmf):\n",
    "  M = np.shape(pmf)[0]\n",
    "  loc = np.linspace(0, M-1, M)\n",
    "  mn = np.sum(pmf.T * loc, axis = 1)\n",
    "  return mn"
   ]
  },
  {
   "attachments": {},
   "cell_type": "markdown",
   "metadata": {},
   "source": [
    "## A test for correctness\n",
    "A sanity check that our algorithms above are actually computing the generating function we are looking for. We use the previously developed algorithm for the mean of the process (Pakkanen, 2022) which is implemented below, and compare the mean computed from the generating function."
   ]
  },
  {
   "cell_type": "code",
   "execution_count": 88,
   "metadata": {},
   "outputs": [],
   "source": [
    "def quick_mean(N, Delta, G, V, rho):\n",
    "  def h(t, tau):\n",
    "    return 1 - G(t - tau, tau)\n",
    "  \n",
    "  def lam(t, tau):\n",
    "    return rho(t + tau) * (V(t) - V(t-Delta)) * (1 - G(t, tau))\n",
    "  \n",
    "  fhat = np.zeros(shape = (N + 1, N + 1))\n",
    "\n",
    "  for n in range(N + 1):\n",
    "      for i in range(n + 1):\n",
    "          if i == 0:\n",
    "              fhat[n, i] = h(n * Delta, n * Delta)\n",
    "          else:\n",
    "              fhat[n, i] = h(n * Delta, (n - i) * Delta) + np.sum(fhat[n, i - np.arange(1, i + 1)] * lam(Delta * np.arange(1, i + 1), (n - i) * Delta))\n",
    "\n",
    "  return np.diagonal(fhat)\n"
   ]
  },
  {
   "attachments": {},
   "cell_type": "markdown",
   "metadata": {},
   "source": [
    "We will generate the discretization over $N = 200$ time steps with step size $\\Delta = 0.5$, i.e. simulating the epidemic until time $t=100$. The fast Fourier transform need a quite high number of terms, we use $M = 5000$, but remember that this task is easy to parallelise."
   ]
  },
  {
   "cell_type": "code",
   "execution_count": null,
   "metadata": {},
   "outputs": [],
   "source": [
    "N = 200\n",
    "Delta = 0.5\n",
    "\n",
    "mn = quick_mean(N, Delta, G, V, rho)\n",
    "\n",
    "p_list = pgf_prep(N, Delta, G, V, rho, 1, inf_proc = \"pois\")\n",
    "pmf = pmfft(5000, p_list)"
   ]
  },
  {
   "cell_type": "code",
   "execution_count": 231,
   "metadata": {},
   "outputs": [
    {
     "data": {
      "text/plain": [
       "[Text(0.5, 0, 'time'), Text(0, 0.5, 'absolute difference')]"
      ]
     },
     "execution_count": 231,
     "metadata": {},
     "output_type": "execute_result"
    },
    {
     "data": {
      "image/png": "[encoded data removed]",
      "text/plain": [
       "<Figure size 1000x400 with 2 Axes>"
      ]
     },
     "metadata": {},
     "output_type": "display_data"
    }
   ],
   "source": [
    "grid = Delta * np.arange(0, N+1)\n",
    "\n",
    "fig, (ax1, ax2) = plt.subplots(1, 2)\n",
    "fig.set_size_inches(10, 4, forward=True)\n",
    "ax1.plot(grid, mean(pmf), \"b\", label = \"Mean from PGF\")\n",
    "ax1.plot(grid, mn, \"r--\", label = \"Direct mean\")\n",
    "ax1.set(\n",
    "  xlabel = \"time\",\n",
    "  ylabel = \"expected prevalence\"\n",
    ")\n",
    "ax1.legend()\n",
    "\n",
    "ax2.plot(grid, abs(mean(pmf) - mn))\n",
    "ax2.set(\n",
    "  xlabel = \"time\",\n",
    "  ylabel = \"absolute difference\"\n",
    ")\n"
   ]
  },
  {
   "attachments": {},
   "cell_type": "markdown",
   "metadata": {},
   "source": [
    "We see that the two approaches only differ by some floating point error."
   ]
  }
 ],
 "metadata": {
  "kernelspec": {
   "display_name": "pgf_disc",
   "language": "python",
   "name": "python3"
  },
  "language_info": {
   "codemirror_mode": {
    "name": "ipython",
    "version": 3
   },
   "file_extension": ".py",
   "mimetype": "text/x-python",
   "name": "python",
   "nbconvert_exporter": "python",
   "pygments_lexer": "ipython3",
   "version": "3.10.9"
  },
  "orig_nbformat": 4
 },
 "nbformat": 4,
 "nbformat_minor": 2
}
